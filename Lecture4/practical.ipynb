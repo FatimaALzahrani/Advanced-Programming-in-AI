{
  "nbformat": 4,
  "nbformat_minor": 0,
  "metadata": {
    "colab": {
      "provenance": []
    },
    "kernelspec": {
      "name": "python3",
      "display_name": "Python 3"
    },
    "language_info": {
      "name": "python"
    }
  },
  "cells": [
    {
      "cell_type": "markdown",
      "source": [
        "## **While**"
      ],
      "metadata": {
        "id": "aMCii6_QQo7z"
      }
    },
    {
      "cell_type": "code",
      "execution_count": 6,
      "metadata": {
        "colab": {
          "base_uri": "https://localhost:8080/"
        },
        "id": "SVrBWkUTP6Q8",
        "outputId": "2e3f6db6-9d2d-4a3f-f96e-8c997cbb4e96"
      },
      "outputs": [
        {
          "output_type": "stream",
          "name": "stdout",
          "text": [
            "10\n",
            "9\n",
            "8\n",
            "7\n",
            "6\n",
            "5\n",
            "4\n",
            "3\n",
            "2\n",
            "1\n"
          ]
        }
      ],
      "source": [
        "i = 10\n",
        "while i>0:\n",
        "  print(i)\n",
        "  i-=1"
      ]
    },
    {
      "cell_type": "code",
      "source": [
        "while 0==0:\n",
        "  id=int(input('Enter a number: '))\n",
        "  if id==0:\n",
        "    break\n",
        "  print(id)"
      ],
      "metadata": {
        "colab": {
          "base_uri": "https://localhost:8080/"
        },
        "id": "NNlMXl4VQPoV",
        "outputId": "f6d6adf6-da95-48ff-ef17-649da8809792"
      },
      "execution_count": 4,
      "outputs": [
        {
          "name": "stdout",
          "output_type": "stream",
          "text": [
            "Enter a number: 5\n",
            "5\n",
            "Enter a number: 9\n",
            "9\n",
            "Enter a number: 0\n"
          ]
        }
      ]
    },
    {
      "cell_type": "markdown",
      "source": [
        "## **for**"
      ],
      "metadata": {
        "id": "EJhIsDsvQsjS"
      }
    },
    {
      "cell_type": "code",
      "source": [
        "students = ['Ali','Mohammed','Nizar']"
      ],
      "metadata": {
        "id": "tcI54zLNQvP2"
      },
      "execution_count": 9,
      "outputs": []
    },
    {
      "cell_type": "code",
      "source": [
        "for student in students:\n",
        "  print(student)"
      ],
      "metadata": {
        "colab": {
          "base_uri": "https://localhost:8080/"
        },
        "id": "iOCR9-vCQ9AT",
        "outputId": "f236e665-cf24-490b-ea6c-6ba8a259d68a"
      },
      "execution_count": 8,
      "outputs": [
        {
          "output_type": "stream",
          "name": "stdout",
          "text": [
            "Ali\n",
            "Mohammed\n",
            "Nizar\n"
          ]
        }
      ]
    },
    {
      "cell_type": "code",
      "source": [
        "for i in range(10):# شكل قائمة من الارقام من صفر لعشرة\n",
        "  print(i)"
      ],
      "metadata": {
        "colab": {
          "base_uri": "https://localhost:8080/"
        },
        "id": "J2B7IAmxRUmn",
        "outputId": "2cefc395-3938-4cf0-97db-bd06649c2ff8"
      },
      "execution_count": 13,
      "outputs": [
        {
          "output_type": "stream",
          "name": "stdout",
          "text": [
            "0\n",
            "1\n",
            "2\n",
            "3\n",
            "4\n",
            "5\n",
            "6\n",
            "7\n",
            "8\n",
            "9\n"
          ]
        }
      ]
    },
    {
      "cell_type": "code",
      "source": [
        "for i in range(6,20):\n",
        "  print(i)"
      ],
      "metadata": {
        "colab": {
          "base_uri": "https://localhost:8080/"
        },
        "id": "4QvFduW-Sdk8",
        "outputId": "fdb4da8e-7157-47f8-a931-6010f819d3a8"
      },
      "execution_count": 19,
      "outputs": [
        {
          "output_type": "stream",
          "name": "stdout",
          "text": [
            "6\n",
            "7\n",
            "8\n",
            "9\n",
            "10\n",
            "11\n",
            "12\n",
            "13\n",
            "14\n",
            "15\n",
            "16\n",
            "17\n",
            "18\n",
            "19\n"
          ]
        }
      ]
    },
    {
      "cell_type": "code",
      "source": [
        "suming = 0\n",
        "for i in range(6,20):\n",
        "  suming+=i\n",
        "print(suming)"
      ],
      "metadata": {
        "colab": {
          "base_uri": "https://localhost:8080/"
        },
        "id": "4nUmK2KmS0QQ",
        "outputId": "d6cf7b6e-a032-4a77-d52b-4f5f6afeac4a"
      },
      "execution_count": 20,
      "outputs": [
        {
          "output_type": "stream",
          "name": "stdout",
          "text": [
            "175\n"
          ]
        }
      ]
    },
    {
      "cell_type": "code",
      "source": [
        "total=0\n",
        "for i in range(10):\n",
        "  total+=i\n",
        "print(total)"
      ],
      "metadata": {
        "colab": {
          "base_uri": "https://localhost:8080/"
        },
        "id": "0gbwemvXTWyf",
        "outputId": "0d757c9c-d17d-4807-ef75-2fa2c84f83d9"
      },
      "execution_count": 23,
      "outputs": [
        {
          "output_type": "stream",
          "name": "stdout",
          "text": [
            "45\n"
          ]
        }
      ]
    },
    {
      "cell_type": "markdown",
      "source": [
        "### break"
      ],
      "metadata": {
        "id": "clYwI4-sRrW5"
      }
    },
    {
      "cell_type": "code",
      "source": [
        "for i in range(10):\n",
        "  if i==5:\n",
        "    break\n",
        "  print(i)"
      ],
      "metadata": {
        "colab": {
          "base_uri": "https://localhost:8080/"
        },
        "id": "l1DtQqu-R6Vl",
        "outputId": "de0ab73e-ef27-43c0-9185-438646804355"
      },
      "execution_count": 16,
      "outputs": [
        {
          "output_type": "stream",
          "name": "stdout",
          "text": [
            "0\n",
            "1\n",
            "2\n",
            "3\n",
            "4\n"
          ]
        }
      ]
    },
    {
      "cell_type": "markdown",
      "source": [
        "### continue"
      ],
      "metadata": {
        "id": "bJ0E3ffeR-h2"
      }
    },
    {
      "cell_type": "code",
      "source": [
        "for i in range(10):\n",
        "  if i%2!=0:\n",
        "    continue\n",
        "  print(i)"
      ],
      "metadata": {
        "colab": {
          "base_uri": "https://localhost:8080/"
        },
        "id": "cwRa_jlhRqyD",
        "outputId": "418915f5-5c6c-4e0b-931a-d4044f5809ae"
      },
      "execution_count": 15,
      "outputs": [
        {
          "output_type": "stream",
          "name": "stdout",
          "text": [
            "0\n",
            "2\n",
            "4\n",
            "6\n",
            "8\n"
          ]
        }
      ]
    },
    {
      "cell_type": "markdown",
      "source": [
        "### max & min"
      ],
      "metadata": {
        "id": "9k3oY2Q0Tgbr"
      }
    },
    {
      "cell_type": "markdown",
      "source": [
        "#### min"
      ],
      "metadata": {
        "id": "ZbTvuwpFUBW-"
      }
    },
    {
      "cell_type": "code",
      "source": [
        "gpa=[3,4,2.0,2.6,3.5]"
      ],
      "metadata": {
        "id": "P3cdTR7kUJ2y"
      },
      "execution_count": null,
      "outputs": []
    },
    {
      "cell_type": "code",
      "source": [
        "# to find the minimum item in the list\n",
        "min_gpa=gpa[0]\n",
        "for i in gpa:\n",
        "  if i<min_gpa:\n",
        "    min_gpa=i\n",
        "print(min_gpa)"
      ],
      "metadata": {
        "colab": {
          "base_uri": "https://localhost:8080/"
        },
        "id": "qtCnHY_zTfzM",
        "outputId": "f463351d-2bb2-41a2-84bd-f1444502e882"
      },
      "execution_count": 24,
      "outputs": [
        {
          "output_type": "stream",
          "name": "stdout",
          "text": [
            "2.0\n"
          ]
        }
      ]
    },
    {
      "cell_type": "markdown",
      "source": [
        "#### max"
      ],
      "metadata": {
        "id": "I-6HX-N2UFzQ"
      }
    },
    {
      "cell_type": "code",
      "source": [
        "max_gpa=gpa[0]\n",
        "for i in gpa:\n",
        "  if i>max_gpa:\n",
        "    max_gpa=i\n",
        "print(max_gpa)"
      ],
      "metadata": {
        "colab": {
          "base_uri": "https://localhost:8080/"
        },
        "outputId": "2bef425f-b8a9-4a1d-9d88-517053ba8e87",
        "id": "eX0QAu62UFzR"
      },
      "execution_count": 25,
      "outputs": [
        {
          "output_type": "stream",
          "name": "stdout",
          "text": [
            "4\n"
          ]
        }
      ]
    }
  ]
}