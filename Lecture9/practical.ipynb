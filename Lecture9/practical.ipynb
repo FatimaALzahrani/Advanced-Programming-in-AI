{
  "nbformat": 4,
  "nbformat_minor": 0,
  "metadata": {
    "colab": {
      "provenance": []
    },
    "kernelspec": {
      "name": "python3",
      "display_name": "Python 3"
    },
    "language_info": {
      "name": "python"
    }
  },
  "cells": [
    {
      "cell_type": "markdown",
      "source": [
        "## **Create tuple**"
      ],
      "metadata": {
        "id": "UwZXMr3x6RxT"
      }
    },
    {
      "cell_type": "code",
      "execution_count": null,
      "metadata": {
        "colab": {
          "base_uri": "https://localhost:8080/"
        },
        "id": "l4OBuwMx4hrO",
        "outputId": "3ba04444-c87c-4375-ea20-d27dbb43926a"
      },
      "outputs": [
        {
          "output_type": "stream",
          "name": "stdout",
          "text": [
            "<class 'int'>\n",
            "<class 'tuple'>\n"
          ]
        }
      ],
      "source": [
        "loc=(4) # بيعتبرها int\n",
        "print(type(loc))\n",
        "loc=(4,) # نحط فاصله لو متغير واحد\n",
        "print(type(loc))"
      ]
    },
    {
      "cell_type": "code",
      "source": [
        "list_gpa=[4,3,2.7]\n",
        "gpa_tuple=tuple(list_gpa)\n",
        "print(gpa_tuple)"
      ],
      "metadata": {
        "colab": {
          "base_uri": "https://localhost:8080/"
        },
        "id": "s-UVwTJb69pM",
        "outputId": "80df6323-a9d0-4e5a-a2d2-26e79a558b69"
      },
      "execution_count": null,
      "outputs": [
        {
          "output_type": "stream",
          "name": "stdout",
          "text": [
            "(4, 3, 2.7)\n"
          ]
        }
      ]
    },
    {
      "cell_type": "markdown",
      "source": [
        "## **Access to values**"
      ],
      "metadata": {
        "id": "lTUeW7gX7WAq"
      }
    },
    {
      "cell_type": "code",
      "source": [
        "print(gpa_tuple[0:4])"
      ],
      "metadata": {
        "colab": {
          "base_uri": "https://localhost:8080/"
        },
        "id": "YQcTLL1j7W9V",
        "outputId": "741240f5-2ca6-4b8a-fd36-4f509bb32e74"
      },
      "execution_count": null,
      "outputs": [
        {
          "output_type": "stream",
          "name": "stdout",
          "text": [
            "(4, 3, 2.7)\n"
          ]
        }
      ]
    },
    {
      "cell_type": "code",
      "source": [
        "print(gpa_tuple[2])"
      ],
      "metadata": {
        "colab": {
          "base_uri": "https://localhost:8080/"
        },
        "id": "lTca28hV98a1",
        "outputId": "46ee9268-f1f2-499c-e049-4c9e93d3aa1c"
      },
      "execution_count": null,
      "outputs": [
        {
          "output_type": "stream",
          "name": "stdout",
          "text": [
            "2.7\n"
          ]
        }
      ]
    },
    {
      "cell_type": "markdown",
      "source": [
        "## **Edit value**"
      ],
      "metadata": {
        "id": "WLPUk43w9__o"
      }
    },
    {
      "cell_type": "code",
      "source": [
        "gpa_tuple[0]=5 # unmodifyd"
      ],
      "metadata": {
        "colab": {
          "base_uri": "https://localhost:8080/",
          "height": 146
        },
        "id": "DPY9L0lR7bIo",
        "outputId": "45655270-2a2a-4d0e-8971-656f275677b7"
      },
      "execution_count": null,
      "outputs": [
        {
          "output_type": "error",
          "ename": "TypeError",
          "evalue": "'tuple' object does not support item assignment",
          "traceback": [
            "\u001b[0;31m---------------------------------------------------------------------------\u001b[0m",
            "\u001b[0;31mTypeError\u001b[0m                                 Traceback (most recent call last)",
            "\u001b[0;32m<ipython-input-7-b75efb1d27df>\u001b[0m in \u001b[0;36m<cell line: 1>\u001b[0;34m()\u001b[0m\n\u001b[0;32m----> 1\u001b[0;31m \u001b[0mgpa_tuple\u001b[0m\u001b[0;34m[\u001b[0m\u001b[0;36m0\u001b[0m\u001b[0;34m]\u001b[0m\u001b[0;34m=\u001b[0m\u001b[0;36m5\u001b[0m\u001b[0;34m\u001b[0m\u001b[0;34m\u001b[0m\u001b[0m\n\u001b[0m",
            "\u001b[0;31mTypeError\u001b[0m: 'tuple' object does not support item assignment"
          ]
        }
      ]
    },
    {
      "cell_type": "code",
      "source": [
        "# يمدي نعدل بس اذا كان في ليست جوتها وبنعدل اللست نفسها\n",
        "new_tuple=['ans',[8,5],6.5]\n",
        "new_tuple[1].append(76)\n",
        "new_tuple"
      ],
      "metadata": {
        "colab": {
          "base_uri": "https://localhost:8080/"
        },
        "id": "KSgMsxtB7jf1",
        "outputId": "549e6805-ebb1-4fca-8fbc-30ff1aae4e2a"
      },
      "execution_count": null,
      "outputs": [
        {
          "output_type": "execute_result",
          "data": {
            "text/plain": [
              "['ans', [8, 5, 76], 6.5]"
            ]
          },
          "metadata": {},
          "execution_count": 10
        }
      ]
    },
    {
      "cell_type": "markdown",
      "source": [
        "## **Count**"
      ],
      "metadata": {
        "id": "-Ke9uHM98JO_"
      }
    },
    {
      "cell_type": "code",
      "source": [
        "prices=(44,33,12,22,11,33,12,12,12)"
      ],
      "metadata": {
        "id": "Kt9PDn_d8NFV"
      },
      "execution_count": null,
      "outputs": []
    },
    {
      "cell_type": "code",
      "source": [
        "print(prices.count(12))"
      ],
      "metadata": {
        "colab": {
          "base_uri": "https://localhost:8080/"
        },
        "id": "B48Ml9fi8Wg1",
        "outputId": "f7023e43-cc18-4ab2-e769-0a566d04a876"
      },
      "execution_count": null,
      "outputs": [
        {
          "output_type": "stream",
          "name": "stdout",
          "text": [
            "4\n"
          ]
        }
      ]
    },
    {
      "cell_type": "markdown",
      "source": [
        "## **Index**"
      ],
      "metadata": {
        "id": "Y37w115Z8edP"
      }
    },
    {
      "cell_type": "code",
      "source": [
        "print(prices.index(12)) # اول ظهور للقييمة"
      ],
      "metadata": {
        "colab": {
          "base_uri": "https://localhost:8080/"
        },
        "id": "C7Fmkeqy8hgg",
        "outputId": "27b67593-21d8-43d3-9b13-2307ebfd4c14"
      },
      "execution_count": null,
      "outputs": [
        {
          "output_type": "stream",
          "name": "stdout",
          "text": [
            "2\n"
          ]
        }
      ]
    },
    {
      "cell_type": "markdown",
      "source": [
        "## **Packing**"
      ],
      "metadata": {
        "id": "dBPOKfPo8p_w"
      }
    },
    {
      "cell_type": "code",
      "source": [
        "# مجموعة قيم افصلهم بفاصله كني اسوي حزمة وهو بيعتبرها تيوبل\n",
        "marks=19,18,20,11\n",
        "print(marks)\n",
        "print(type(marks))"
      ],
      "metadata": {
        "colab": {
          "base_uri": "https://localhost:8080/"
        },
        "id": "JGD0FIVq8t4z",
        "outputId": "317af409-3e82-4277-d6fa-327c0572cd13"
      },
      "execution_count": null,
      "outputs": [
        {
          "output_type": "stream",
          "name": "stdout",
          "text": [
            "(19, 18, 20, 11)\n",
            "<class 'tuple'>\n"
          ]
        }
      ]
    },
    {
      "cell_type": "markdown",
      "source": [
        "## **UnPacking**"
      ],
      "metadata": {
        "id": "b3EYNlJx86a6"
      }
    },
    {
      "cell_type": "code",
      "source": [
        "# لازم نفس العدد اللي في الماركز كان 4 قسم فهنا اربع متغيرات لازم\n",
        "fatimah,mohammed,shaekah,ahmed = marks\n",
        "print(fatimah)\n",
        "print(mohammed)\n",
        "print(shaekah)\n",
        "print(ahmed)"
      ],
      "metadata": {
        "colab": {
          "base_uri": "https://localhost:8080/"
        },
        "id": "QEAgUubi86Ic",
        "outputId": "0dd4aff7-ee7d-4123-962c-e09b60364a26"
      },
      "execution_count": null,
      "outputs": [
        {
          "output_type": "stream",
          "name": "stdout",
          "text": [
            "19\n",
            "18\n",
            "20\n",
            "11\n"
          ]
        }
      ]
    },
    {
      "cell_type": "markdown",
      "source": [
        "### packing & unpacking"
      ],
      "metadata": {
        "id": "Je4qB_1u9i00"
      }
    },
    {
      "cell_type": "code",
      "source": [
        "# packing\n",
        "def divide(x,y):\n",
        "  q=x//y\n",
        "  r=x%y\n",
        "  return q,r\n",
        "\n",
        "# unpacking\n",
        "quotient,remainder=divide(5,2)\n",
        "print(quotient)\n",
        "print(remainder)"
      ],
      "metadata": {
        "colab": {
          "base_uri": "https://localhost:8080/"
        },
        "id": "P7EU4cRl-XDh",
        "outputId": "871eebc3-0a1d-4488-ae1c-6cc2151f6f66"
      },
      "execution_count": null,
      "outputs": [
        {
          "output_type": "stream",
          "name": "stdout",
          "text": [
            "2\n",
            "1\n"
          ]
        }
      ]
    }
  ]
}