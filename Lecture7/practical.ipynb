{
  "nbformat": 4,
  "nbformat_minor": 0,
  "metadata": {
    "colab": {
      "provenance": []
    },
    "kernelspec": {
      "name": "python3",
      "display_name": "Python 3"
    },
    "language_info": {
      "name": "python"
    }
  },
  "cells": [
    {
      "cell_type": "markdown",
      "source": [
        "## **Creating and Accessing Lists**"
      ],
      "metadata": {
        "id": "DwJ47NCIqyEx"
      }
    },
    {
      "cell_type": "code",
      "execution_count": null,
      "metadata": {
        "id": "JgHArG-bnlE9"
      },
      "outputs": [],
      "source": [
        "name_list=[]\n",
        "number_list=[25,13,23]\n",
        "mixed_list=[2,'lk',True,[8,6],{20,37},(\"Fatimah\",\"Alzahrani\"),{'age':22,'gpa':4}]"
      ]
    },
    {
      "cell_type": "code",
      "source": [
        "print(mixed_list[0])\n",
        "print(type(mixed_list[0]))"
      ],
      "metadata": {
        "colab": {
          "base_uri": "https://localhost:8080/"
        },
        "id": "bST5o3T8p96N",
        "outputId": "0a37c65b-7623-40d3-f57d-2e7430a9e676"
      },
      "execution_count": null,
      "outputs": [
        {
          "output_type": "stream",
          "name": "stdout",
          "text": [
            "2\n",
            "<class 'int'>\n"
          ]
        }
      ]
    },
    {
      "cell_type": "code",
      "source": [
        "print(mixed_list[-1]) # يجيب اخر عنصر"
      ],
      "metadata": {
        "colab": {
          "base_uri": "https://localhost:8080/"
        },
        "id": "JgDmP_Vuqto4",
        "outputId": "22cd34f5-28c7-4c17-e7e1-c1fae85367c4"
      },
      "execution_count": null,
      "outputs": [
        {
          "output_type": "stream",
          "name": "stdout",
          "text": [
            "{'age': 22, 'gpa': 4}\n"
          ]
        }
      ]
    },
    {
      "cell_type": "code",
      "source": [
        "print(mixed_list[3][0])"
      ],
      "metadata": {
        "colab": {
          "base_uri": "https://localhost:8080/"
        },
        "id": "bT370OgfqRZ8",
        "outputId": "ef936468-0389-4b43-c201-3302602d6283"
      },
      "execution_count": null,
      "outputs": [
        {
          "output_type": "stream",
          "name": "stdout",
          "text": [
            "8\n"
          ]
        }
      ]
    },
    {
      "cell_type": "markdown",
      "source": [
        "##  **List Operations**"
      ],
      "metadata": {
        "id": "nzGluWQesC7J"
      }
    },
    {
      "cell_type": "markdown",
      "source": [
        "### **Concatenation**"
      ],
      "metadata": {
        "id": "yKKk2yn6q2ds"
      }
    },
    {
      "cell_type": "code",
      "source": [
        "male_students = ['Mohammed','Abduallah']\n",
        "female_students = ['Fatimah','Shaekah']\n",
        "all_students = male_students + female_students\n",
        "print(all_students)"
      ],
      "metadata": {
        "colab": {
          "base_uri": "https://localhost:8080/"
        },
        "id": "azDG2f9orA7_",
        "outputId": "f2b1a9f2-9edd-4557-f85d-6391ccde8601"
      },
      "execution_count": null,
      "outputs": [
        {
          "output_type": "stream",
          "name": "stdout",
          "text": [
            "['Mohammed', 'Abduallah', 'Fatimah', 'Shaekah']\n"
          ]
        }
      ]
    },
    {
      "cell_type": "markdown",
      "source": [
        "### **Repetition**"
      ],
      "metadata": {
        "id": "soc9OjrCruO5"
      }
    },
    {
      "cell_type": "code",
      "source": [
        "price=[33,21,56]\n",
        "print(price*2)"
      ],
      "metadata": {
        "colab": {
          "base_uri": "https://localhost:8080/"
        },
        "id": "G9LGJIcarYnO",
        "outputId": "486bd355-d077-499b-b776-24d6d3607cff"
      },
      "execution_count": null,
      "outputs": [
        {
          "output_type": "stream",
          "name": "stdout",
          "text": [
            "[33, 21, 56, 33, 21, 56]\n"
          ]
        }
      ]
    },
    {
      "cell_type": "markdown",
      "source": [
        "### **Membership Testing**"
      ],
      "metadata": {
        "id": "uBW6o8_KrwiK"
      }
    },
    {
      "cell_type": "code",
      "source": [
        "print('Mohammed' in male_students)"
      ],
      "metadata": {
        "colab": {
          "base_uri": "https://localhost:8080/"
        },
        "id": "O5iS-Xxxr0XV",
        "outputId": "03e2d67b-7d5e-43e6-f4c0-283d23a5f4fb"
      },
      "execution_count": null,
      "outputs": [
        {
          "output_type": "stream",
          "name": "stdout",
          "text": [
            "True\n"
          ]
        }
      ]
    },
    {
      "cell_type": "code",
      "source": [
        "print('Abdualkreem' in male_students)"
      ],
      "metadata": {
        "colab": {
          "base_uri": "https://localhost:8080/"
        },
        "id": "jo689ergr7k4",
        "outputId": "cca10299-aea6-402d-8970-dfdbada7ab21"
      },
      "execution_count": null,
      "outputs": [
        {
          "output_type": "stream",
          "name": "stdout",
          "text": [
            "False\n"
          ]
        }
      ]
    },
    {
      "cell_type": "markdown",
      "source": [
        "## **Modifying Lists**"
      ],
      "metadata": {
        "id": "J2gtcmmbr_G6"
      }
    },
    {
      "cell_type": "markdown",
      "source": [
        "### **Changing Elements**"
      ],
      "metadata": {
        "id": "PEQ-NyHksPSS"
      }
    },
    {
      "cell_type": "code",
      "source": [
        "male_students[1]='Abdualkreem'\n",
        "print(male_students)"
      ],
      "metadata": {
        "colab": {
          "base_uri": "https://localhost:8080/"
        },
        "id": "qtisrJfWsMWD",
        "outputId": "ca4c12c1-9e57-4916-b3b4-fc2f688d9f15"
      },
      "execution_count": null,
      "outputs": [
        {
          "output_type": "stream",
          "name": "stdout",
          "text": [
            "['Mohammed', 'Abdualkreem']\n"
          ]
        }
      ]
    },
    {
      "cell_type": "markdown",
      "source": [
        "### **Adding Elements**"
      ],
      "metadata": {
        "id": "Zab1RcVBsZhL"
      }
    },
    {
      "cell_type": "code",
      "source": [
        "male_students.append('Abduallah')\n",
        "print(male_students)"
      ],
      "metadata": {
        "colab": {
          "base_uri": "https://localhost:8080/"
        },
        "id": "7JzaJ2lEseRO",
        "outputId": "b9eadb95-7fc0-49cd-a6bb-ccad291d2c0c"
      },
      "execution_count": null,
      "outputs": [
        {
          "output_type": "stream",
          "name": "stdout",
          "text": [
            "['Mohammed', 'Abdualkreem', 'Abduallah']\n"
          ]
        }
      ]
    },
    {
      "cell_type": "markdown",
      "source": [
        "### **Inserting Elements**"
      ],
      "metadata": {
        "id": "vfvoeqs_spHL"
      }
    },
    {
      "cell_type": "code",
      "source": [
        "male_students.insert(0,'Ahmed')\n",
        "print(male_students)"
      ],
      "metadata": {
        "colab": {
          "base_uri": "https://localhost:8080/"
        },
        "id": "GxaGqG9ysozf",
        "outputId": "da371dd6-cf83-40f5-b50b-fe9dd287bd20"
      },
      "execution_count": null,
      "outputs": [
        {
          "output_type": "stream",
          "name": "stdout",
          "text": [
            "['Ahmed', 'Mohammed', 'Abdualkreem', 'Abduallah']\n"
          ]
        }
      ]
    },
    {
      "cell_type": "markdown",
      "source": [
        "### **Removing Elements**"
      ],
      "metadata": {
        "id": "kUufSzuTsyUf"
      }
    },
    {
      "cell_type": "code",
      "source": [
        "male_students.remove('Abdualkreem')\n",
        "print(male_students)"
      ],
      "metadata": {
        "colab": {
          "base_uri": "https://localhost:8080/"
        },
        "id": "p46TfOM0s4ZT",
        "outputId": "64f84709-cbfe-4bb1-de5a-41570be68450"
      },
      "execution_count": null,
      "outputs": [
        {
          "output_type": "stream",
          "name": "stdout",
          "text": [
            "['Ahmed', 'Mohammed', 'Abduallah']\n"
          ]
        }
      ]
    },
    {
      "cell_type": "markdown",
      "source": [
        "## **Looping Through Lists**"
      ],
      "metadata": {
        "id": "DpYako3LtEBS"
      }
    },
    {
      "cell_type": "markdown",
      "source": [
        "### **For**"
      ],
      "metadata": {
        "id": "aahsuOdMtHU-"
      }
    },
    {
      "cell_type": "code",
      "source": [
        "for student in female_students:\n",
        "    print(student)"
      ],
      "metadata": {
        "colab": {
          "base_uri": "https://localhost:8080/"
        },
        "id": "7KZhVATltKC_",
        "outputId": "fc9463c9-5632-49f7-98d2-9880689d8131"
      },
      "execution_count": null,
      "outputs": [
        {
          "output_type": "stream",
          "name": "stdout",
          "text": [
            "Fatimah\n",
            "Shaekah\n"
          ]
        }
      ]
    },
    {
      "cell_type": "code",
      "source": [
        "prices=[24,33,12]\n",
        "tax=[]\n",
        "for price in prices:\n",
        "    tax.append(price*0.15)\n",
        "print(tax)"
      ],
      "metadata": {
        "colab": {
          "base_uri": "https://localhost:8080/"
        },
        "id": "82zAjSzov8Nr",
        "outputId": "89e94b89-b1f7-41e6-98b2-13b5b77d9647"
      },
      "execution_count": null,
      "outputs": [
        {
          "output_type": "stream",
          "name": "stdout",
          "text": [
            "[3.5999999999999996, 4.95, 1.7999999999999998]\n"
          ]
        }
      ]
    },
    {
      "cell_type": "code",
      "source": [
        "prices=[24,33,12]\n",
        "tax=[]\n",
        "total=0\n",
        "current_index=0\n",
        "for price in prices:\n",
        "    tax.append(price*0.15)\n",
        "    # total+=price\n",
        "    total+=tax[current_index]\n",
        "    current_index+=1\n",
        "    # او بعد يمدي نقول total+=tax[-1] لان -1 بيكون اخر عنصر فاللي هو الحالي\n",
        "print('Tax is ',tax)\n",
        "print('Total is ',total)"
      ],
      "metadata": {
        "colab": {
          "base_uri": "https://localhost:8080/"
        },
        "id": "HQQJwKnIwNKp",
        "outputId": "e64e107c-00e8-4825-9209-fa5bbe13304b"
      },
      "execution_count": null,
      "outputs": [
        {
          "output_type": "stream",
          "name": "stdout",
          "text": [
            "Tax is  [3.5999999999999996, 4.95, 1.7999999999999998]\n",
            "Total is  10.350000000000001\n"
          ]
        }
      ]
    },
    {
      "cell_type": "markdown",
      "source": [
        "### **While**"
      ],
      "metadata": {
        "id": "-QM3tuavtRVB"
      }
    },
    {
      "cell_type": "code",
      "source": [
        "i=0\n",
        "while(len(female_students)>i):\n",
        "    print(female_students[i])\n",
        "    i+=1"
      ],
      "metadata": {
        "colab": {
          "base_uri": "https://localhost:8080/"
        },
        "id": "1Ki7TdS2tUpk",
        "outputId": "3e833f05-a7f5-4731-93c1-0aa07c4b1528"
      },
      "execution_count": null,
      "outputs": [
        {
          "output_type": "stream",
          "name": "stdout",
          "text": [
            "Fatimah\n",
            "Shaekah\n"
          ]
        }
      ]
    },
    {
      "cell_type": "markdown",
      "source": [
        "## **Sort**"
      ],
      "metadata": {
        "id": "zUcwKdKTuCVa"
      }
    },
    {
      "cell_type": "code",
      "source": [
        "price=[33,21,56]\n",
        "price.sort()#بيروح على نفس موقع القائمة بالذاكرة ويرتب ما يحتاج نسندها لمتغير جديد\n",
        "print(price)"
      ],
      "metadata": {
        "colab": {
          "base_uri": "https://localhost:8080/"
        },
        "id": "0SOpoT2NuE7O",
        "outputId": "ef1e2b65-d594-4b7f-9c17-a67a0992288c"
      },
      "execution_count": null,
      "outputs": [
        {
          "output_type": "stream",
          "name": "stdout",
          "text": [
            "[21, 33, 56]\n"
          ]
        }
      ]
    },
    {
      "cell_type": "code",
      "source": [
        "price=[33,21,56]\n",
        "price2=sorted(price)#يمدي نسندها لمتغير جديد تسوي نسخه ما تعدل على نفس اللست\n",
        "print(price)\n",
        "print(price2)"
      ],
      "metadata": {
        "colab": {
          "base_uri": "https://localhost:8080/"
        },
        "id": "bB2O7vy3vJzh",
        "outputId": "3a683d57-c555-487f-d976-ae78ba3cb533"
      },
      "execution_count": null,
      "outputs": [
        {
          "output_type": "stream",
          "name": "stdout",
          "text": [
            "[33, 21, 56]\n",
            "[21, 33, 56]\n"
          ]
        }
      ]
    },
    {
      "cell_type": "markdown",
      "source": [
        "## **Advanced List Operations**"
      ],
      "metadata": {
        "id": "G4rYB85ouLZ-"
      }
    },
    {
      "cell_type": "markdown",
      "source": [
        "### **List Slicing**"
      ],
      "metadata": {
        "id": "0fyFB7KRxXU3"
      }
    },
    {
      "cell_type": "code",
      "source": [
        "print(male_students[0:2])# من 0 الين ما قبل اللي بعد : يعني هنا بيكون واحد"
      ],
      "metadata": {
        "colab": {
          "base_uri": "https://localhost:8080/"
        },
        "id": "ToDO3nkVxb2v",
        "outputId": "d7016e21-0332-4313-823b-4a1e707d6161"
      },
      "execution_count": null,
      "outputs": [
        {
          "output_type": "stream",
          "name": "stdout",
          "text": [
            "['Mohammed', 'Abduallah']\n"
          ]
        }
      ]
    },
    {
      "cell_type": "code",
      "source": [
        "print(price[:2])"
      ],
      "metadata": {
        "colab": {
          "base_uri": "https://localhost:8080/"
        },
        "id": "FfXivUlTx1ZC",
        "outputId": "3b430678-42da-4326-84f8-005a46694d78"
      },
      "execution_count": null,
      "outputs": [
        {
          "output_type": "stream",
          "name": "stdout",
          "text": [
            "[33, 21]\n"
          ]
        }
      ]
    },
    {
      "cell_type": "markdown",
      "source": [
        "### **List Comprehension**"
      ],
      "metadata": {
        "id": "L8CoHfylxeJO"
      }
    },
    {
      "cell_type": "markdown",
      "source": [
        "['امر' for 'متغير' in 'اسم اللسته']"
      ],
      "metadata": {
        "id": "92vRkDRryQZp"
      }
    },
    {
      "cell_type": "code",
      "source": [
        "discount=[price*0.15 for price in prices] # نقرا بالمقلوب اسرع\n",
        "print(discount)"
      ],
      "metadata": {
        "colab": {
          "base_uri": "https://localhost:8080/"
        },
        "id": "MC3i0fI8yDvn",
        "outputId": "35a5993e-de19-4f2c-ab6a-ea177d3fb267"
      },
      "execution_count": null,
      "outputs": [
        {
          "output_type": "stream",
          "name": "stdout",
          "text": [
            "[3.5999999999999996, 4.95, 1.7999999999999998]\n"
          ]
        }
      ]
    },
    {
      "cell_type": "markdown",
      "source": [
        "## **Common List Methods**"
      ],
      "metadata": {
        "id": "-U59EngjxkUC"
      }
    },
    {
      "cell_type": "markdown",
      "source": [
        "### **extend**"
      ],
      "metadata": {
        "id": "27kVdjluyzt4"
      }
    },
    {
      "cell_type": "code",
      "source": [
        "# نفس دمج قيمتين بس بدون الزائد\n",
        "prices.extend(discount)\n",
        "print(prices)"
      ],
      "metadata": {
        "colab": {
          "base_uri": "https://localhost:8080/"
        },
        "id": "_i5Q9ic0zBCG",
        "outputId": "7227de99-6b90-4156-c2db-0f8e2e7342ee"
      },
      "execution_count": null,
      "outputs": [
        {
          "output_type": "stream",
          "name": "stdout",
          "text": [
            "[24, 33, 12, 3.5999999999999996, 4.95, 1.7999999999999998]\n"
          ]
        }
      ]
    },
    {
      "cell_type": "markdown",
      "source": [
        "### **pop**"
      ],
      "metadata": {
        "id": "soKwZBMby4hw"
      }
    },
    {
      "cell_type": "code",
      "source": [
        "# للحذف بالاندكس\n",
        "print(male_students)\n",
        "male_students.pop(0)\n",
        "print(male_students)"
      ],
      "metadata": {
        "colab": {
          "base_uri": "https://localhost:8080/"
        },
        "id": "TwK97Xoqy3wb",
        "outputId": "f78386b1-7fa4-449d-e3f0-50e8477bcdcf"
      },
      "execution_count": null,
      "outputs": [
        {
          "output_type": "stream",
          "name": "stdout",
          "text": [
            "['Mohammed', 'Abduallah']\n",
            "['Abduallah']\n"
          ]
        }
      ]
    },
    {
      "cell_type": "markdown",
      "source": [
        "### **remove**"
      ],
      "metadata": {
        "id": "CmGg-nIMzUC6"
      }
    },
    {
      "cell_type": "code",
      "source": [
        "# للحذف بالقيمة\n",
        "print(price)\n",
        "price.remove(33)\n",
        "print(price)"
      ],
      "metadata": {
        "colab": {
          "base_uri": "https://localhost:8080/"
        },
        "id": "RZz3Xw-dzYaA",
        "outputId": "4b33ee46-8707-43bb-ad21-d698976d3b84"
      },
      "execution_count": null,
      "outputs": [
        {
          "output_type": "stream",
          "name": "stdout",
          "text": [
            "[33, 21, 56]\n",
            "[21, 56]\n"
          ]
        }
      ]
    },
    {
      "cell_type": "markdown",
      "source": [
        "### **index**"
      ],
      "metadata": {
        "id": "Kg9GywgwzleR"
      }
    },
    {
      "cell_type": "code",
      "source": [
        "# يرجع الاندكس حق قيمة محددة\n",
        "print(price.index(56))"
      ],
      "metadata": {
        "colab": {
          "base_uri": "https://localhost:8080/"
        },
        "id": "9lxRcWpzznnG",
        "outputId": "72e67389-e233-4d80-ee7b-ce5465e0590c"
      },
      "execution_count": null,
      "outputs": [
        {
          "output_type": "stream",
          "name": "stdout",
          "text": [
            "1\n"
          ]
        }
      ]
    }
  ]
}