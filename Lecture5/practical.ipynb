{
  "nbformat": 4,
  "nbformat_minor": 0,
  "metadata": {
    "colab": {
      "provenance": []
    },
    "kernelspec": {
      "name": "python3",
      "display_name": "Python 3"
    },
    "language_info": {
      "name": "python"
    }
  },
  "cells": [
    {
      "cell_type": "code",
      "execution_count": 1,
      "metadata": {
        "id": "bgN1fUutYj-4"
      },
      "outputs": [],
      "source": [
        "name='    Fatimah Alzahrani'"
      ]
    },
    {
      "cell_type": "code",
      "source": [
        "print(name.upper())"
      ],
      "metadata": {
        "colab": {
          "base_uri": "https://localhost:8080/"
        },
        "id": "qm4rvwRjYzJ-",
        "outputId": "42cd72d1-210b-47c8-d2b4-c75db40805cc"
      },
      "execution_count": 2,
      "outputs": [
        {
          "output_type": "stream",
          "name": "stdout",
          "text": [
            "    FATIMAH ALZAHRANI\n"
          ]
        }
      ]
    },
    {
      "cell_type": "code",
      "source": [
        "print(name.lower())"
      ],
      "metadata": {
        "colab": {
          "base_uri": "https://localhost:8080/"
        },
        "id": "wD-bp-PvY0ld",
        "outputId": "ff9e7b39-3bdb-4d28-9045-861a336e8257"
      },
      "execution_count": 3,
      "outputs": [
        {
          "output_type": "stream",
          "name": "stdout",
          "text": [
            "    fatimah alzahrani\n"
          ]
        }
      ]
    },
    {
      "cell_type": "code",
      "source": [
        "print(name.strip())"
      ],
      "metadata": {
        "colab": {
          "base_uri": "https://localhost:8080/"
        },
        "id": "NJeR6h4dY5Ik",
        "outputId": "15be5c14-f31f-46c3-d2f8-d44960972048"
      },
      "execution_count": 4,
      "outputs": [
        {
          "output_type": "stream",
          "name": "stdout",
          "text": [
            "Fatimah Alzahrani\n"
          ]
        }
      ]
    },
    {
      "cell_type": "code",
      "source": [
        "print(name.find('Fatimah'))"
      ],
      "metadata": {
        "colab": {
          "base_uri": "https://localhost:8080/"
        },
        "id": "cehPEF7IZBcv",
        "outputId": "698137f3-9f68-45d8-fb75-f85e7f506ab2"
      },
      "execution_count": 5,
      "outputs": [
        {
          "output_type": "stream",
          "name": "stdout",
          "text": [
            "4\n"
          ]
        }
      ]
    },
    {
      "cell_type": "code",
      "source": [
        "print(name.replace('Alzahrani','Mohammed'))"
      ],
      "metadata": {
        "colab": {
          "base_uri": "https://localhost:8080/"
        },
        "id": "XDiCZ7xcZQ_F",
        "outputId": "dacd1e97-99d3-46b6-afa7-f95fb100d3f6"
      },
      "execution_count": 6,
      "outputs": [
        {
          "output_type": "stream",
          "name": "stdout",
          "text": [
            "    Fatimah Mohammed\n"
          ]
        }
      ]
    },
    {
      "cell_type": "code",
      "source": [
        "len(name)"
      ],
      "metadata": {
        "colab": {
          "base_uri": "https://localhost:8080/"
        },
        "id": "2HcIjCkaZcoz",
        "outputId": "d20b8374-6618-4693-d0ec-43a0a3f5a89a"
      },
      "execution_count": 7,
      "outputs": [
        {
          "output_type": "execute_result",
          "data": {
            "text/plain": [
              "21"
            ]
          },
          "metadata": {},
          "execution_count": 7
        }
      ]
    },
    {
      "cell_type": "code",
      "source": [
        "print('atim' in name)"
      ],
      "metadata": {
        "colab": {
          "base_uri": "https://localhost:8080/"
        },
        "id": "EHaISARJZ_Uq",
        "outputId": "95a0cfe8-bee0-41d9-8606-13678c1e1a66"
      },
      "execution_count": 8,
      "outputs": [
        {
          "output_type": "stream",
          "name": "stdout",
          "text": [
            "True\n"
          ]
        }
      ]
    },
    {
      "cell_type": "code",
      "source": [
        "print('hr' in name)"
      ],
      "metadata": {
        "colab": {
          "base_uri": "https://localhost:8080/"
        },
        "id": "EBSoUHtvaO9D",
        "outputId": "676c30ec-e079-489c-8a86-10ec3d9ceb69"
      },
      "execution_count": 9,
      "outputs": [
        {
          "output_type": "stream",
          "name": "stdout",
          "text": [
            "True\n"
          ]
        }
      ]
    },
    {
      "cell_type": "code",
      "source": [
        "no=0\n",
        "result=''\n",
        "for ch in name.strip():\n",
        "  if no%2==0:\n",
        "    result+=ch.lower()\n",
        "  else:\n",
        "    result+=ch.upper()\n",
        "  no+=1\n",
        "print(result)"
      ],
      "metadata": {
        "colab": {
          "base_uri": "https://localhost:8080/"
        },
        "id": "mTULBxReaM5k",
        "outputId": "99855b21-6410-4008-f6d7-1b9aea185885"
      },
      "execution_count": 10,
      "outputs": [
        {
          "output_type": "stream",
          "name": "stdout",
          "text": [
            "fAtImAh aLzAhRaNi\n"
          ]
        }
      ]
    },
    {
      "cell_type": "markdown",
      "source": [
        "## **Print strings**"
      ],
      "metadata": {
        "id": "UWCvpMmzcgSj"
      }
    },
    {
      "cell_type": "code",
      "source": [
        "def get_information(name,age):\n",
        "  print(f'Your name is {name} and your age is {age}')\n",
        "  print('Your name is {} and your age is {}'.format(name,age))\n",
        "  print('Your name is %s and your age is %d'%(name,age))\n",
        "  print('Your name is '+name+' and your age is '+str(age))"
      ],
      "metadata": {
        "id": "S-TNw94Ncf8W"
      },
      "execution_count": 11,
      "outputs": []
    },
    {
      "cell_type": "code",
      "source": [
        "name=input('Enter your name: ')\n",
        "age=int(input('Enter your age: '))\n",
        "get_information(name,age)"
      ],
      "metadata": {
        "colab": {
          "base_uri": "https://localhost:8080/"
        },
        "id": "ZTP8jpLCc43Z",
        "outputId": "1d616d4c-15db-494e-8709-ae8a172e18fd"
      },
      "execution_count": 19,
      "outputs": [
        {
          "output_type": "stream",
          "name": "stdout",
          "text": [
            "Enter your name: Fatimah Alzahrani\n",
            "Enter your age: 22\n",
            "Your name is Fatimah Alzahrani and your age is 22\n",
            "Your name is Fatimah Alzahrani and your age is 22\n",
            "Your name is Fatimah Alzahrani and your age is 22\n",
            "Your name is Fatimah Alzahrani and your age is 22\n"
          ]
        }
      ]
    },
    {
      "cell_type": "markdown",
      "source": [
        "##  **Advanced String Methods**"
      ],
      "metadata": {
        "id": "rdeudWUpc-39"
      }
    },
    {
      "cell_type": "markdown",
      "source": [
        "### Split"
      ],
      "metadata": {
        "id": "ml9VUPYQdX4Y"
      }
    },
    {
      "cell_type": "code",
      "source": [
        "your_full_name=input('Enter your full name: ')\n",
        "name_list = your_full_name.split(' ')\n",
        "print(name_list)"
      ],
      "metadata": {
        "colab": {
          "base_uri": "https://localhost:8080/"
        },
        "id": "_YYz4drIdFm5",
        "outputId": "87962d22-5b01-44fc-83d8-0272c2d64810"
      },
      "execution_count": 13,
      "outputs": [
        {
          "output_type": "stream",
          "name": "stdout",
          "text": [
            "Enter your full name: Fatimah Alzahrani\n",
            "['Fatimah', 'Alzahrani']\n"
          ]
        }
      ]
    },
    {
      "cell_type": "markdown",
      "source": [
        "### Join"
      ],
      "metadata": {
        "id": "pz172yUTddRI"
      }
    },
    {
      "cell_type": "code",
      "source": [
        "print(' '.join(name_list))"
      ],
      "metadata": {
        "colab": {
          "base_uri": "https://localhost:8080/"
        },
        "id": "_SPs6Q83daJ5",
        "outputId": "bb9d756c-d769-4a0d-8d08-03259fb20055"
      },
      "execution_count": 14,
      "outputs": [
        {
          "output_type": "stream",
          "name": "stdout",
          "text": [
            "Fatimah Alzahrani\n"
          ]
        }
      ]
    },
    {
      "cell_type": "markdown",
      "source": [
        "### Start with"
      ],
      "metadata": {
        "id": "GoFZKxn7d5qh"
      }
    },
    {
      "cell_type": "code",
      "source": [
        "print(your_full_name.startswith('Fa'))"
      ],
      "metadata": {
        "colab": {
          "base_uri": "https://localhost:8080/"
        },
        "id": "leI7QLF9d8nR",
        "outputId": "b9c93f8e-1e14-4fd6-d593-085e57e8e733"
      },
      "execution_count": 15,
      "outputs": [
        {
          "output_type": "stream",
          "name": "stdout",
          "text": [
            "True\n"
          ]
        }
      ]
    },
    {
      "cell_type": "code",
      "source": [
        "print(your_full_name.startswith('Mo'))"
      ],
      "metadata": {
        "colab": {
          "base_uri": "https://localhost:8080/"
        },
        "id": "qJIImgACeYDz",
        "outputId": "998a6937-32d3-4b2d-ed6d-c7a3ed0b4138"
      },
      "execution_count": 16,
      "outputs": [
        {
          "output_type": "stream",
          "name": "stdout",
          "text": [
            "False\n"
          ]
        }
      ]
    },
    {
      "cell_type": "markdown",
      "source": [
        "### End with"
      ],
      "metadata": {
        "id": "LVVUL7yYeKXc"
      }
    },
    {
      "cell_type": "code",
      "source": [
        "print(your_full_name.endswith('ni'))"
      ],
      "metadata": {
        "colab": {
          "base_uri": "https://localhost:8080/"
        },
        "id": "YzaDL57NeTbe",
        "outputId": "b6fdbaf0-eaff-4da1-a5b8-c59730b99205"
      },
      "execution_count": 17,
      "outputs": [
        {
          "output_type": "stream",
          "name": "stdout",
          "text": [
            "True\n"
          ]
        }
      ]
    },
    {
      "cell_type": "code",
      "source": [
        "print(your_full_name.endswith('f'))"
      ],
      "metadata": {
        "colab": {
          "base_uri": "https://localhost:8080/"
        },
        "id": "KRZjaxzdea0x",
        "outputId": "055ddbd6-b568-4057-c655-e9dff364d4da"
      },
      "execution_count": 18,
      "outputs": [
        {
          "output_type": "stream",
          "name": "stdout",
          "text": [
            "False\n"
          ]
        }
      ]
    }
  ]
}