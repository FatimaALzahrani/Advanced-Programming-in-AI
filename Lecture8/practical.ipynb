{
  "nbformat": 4,
  "nbformat_minor": 0,
  "metadata": {
    "colab": {
      "provenance": []
    },
    "kernelspec": {
      "name": "python3",
      "display_name": "Python 3"
    },
    "language_info": {
      "name": "python"
    }
  },
  "cells": [
    {
      "cell_type": "markdown",
      "source": [
        "## **Create a dictionary**"
      ],
      "metadata": {
        "id": "bY4s_ac62TSs"
      }
    },
    {
      "cell_type": "markdown",
      "source": [
        "هو قيمة ومفتاح ماهو بس قيم"
      ],
      "metadata": {
        "id": "AnxxtlqIz9qX"
      }
    },
    {
      "cell_type": "code",
      "execution_count": null,
      "metadata": {
        "id": "cAPwymomz65c"
      },
      "outputs": [],
      "source": [
        "# list\n",
        "gpa=[4,3.5,2.75] # مانعرف مين جاب هذي الدرجات ؟\n",
        "# dic\n",
        "gpa={'Ali':4,'Saeed':3.5,'Ans':2.75}"
      ]
    },
    {
      "cell_type": "code",
      "source": [
        "print(gpa)"
      ],
      "metadata": {
        "colab": {
          "base_uri": "https://localhost:8080/"
        },
        "id": "B9LF8rSt0c7b",
        "outputId": "bd68c1c5-a638-4a5c-e1f4-0a3c05d7ec2a"
      },
      "execution_count": null,
      "outputs": [
        {
          "output_type": "stream",
          "name": "stdout",
          "text": [
            "{'Ali': 4, 'Saeed': 3.5, 'Ans': 2.75}\n"
          ]
        }
      ]
    },
    {
      "cell_type": "code",
      "source": [
        "# طريقة ثانية لتعريف المتغيرات\n",
        "marks=dict(ali=4,saeed=3.5,ahmed=2.75)"
      ],
      "metadata": {
        "id": "g6z8GBW41AGv"
      },
      "execution_count": null,
      "outputs": []
    },
    {
      "cell_type": "code",
      "source": [
        "gpa={'Ali':4,'Saeed':3.5,'Ali':2.75}\n",
        "print(gpa) # تكرار المفتاح بياخذ اخر قيمة ممنوع التكرار"
      ],
      "metadata": {
        "colab": {
          "base_uri": "https://localhost:8080/"
        },
        "id": "oTIbgufR0wrb",
        "outputId": "4ffba856-18fe-4f4a-e993-2a5030a9a5a6"
      },
      "execution_count": null,
      "outputs": [
        {
          "output_type": "stream",
          "name": "stdout",
          "text": [
            "{'Ali': 2.75, 'Saeed': 3.5}\n"
          ]
        }
      ]
    },
    {
      "cell_type": "markdown",
      "source": [
        "## **Access to values**"
      ],
      "metadata": {
        "id": "vGKJLiE41zR4"
      }
    },
    {
      "cell_type": "code",
      "source": [
        "marks['ahmed']"
      ],
      "metadata": {
        "colab": {
          "base_uri": "https://localhost:8080/"
        },
        "id": "zUXjlraG1N8s",
        "outputId": "de12299f-1056-4a4e-f48c-41ad9a860b8e"
      },
      "execution_count": null,
      "outputs": [
        {
          "output_type": "execute_result",
          "data": {
            "text/plain": [
              "2.75"
            ]
          },
          "metadata": {},
          "execution_count": 7
        }
      ]
    },
    {
      "cell_type": "code",
      "source": [
        "print(marks.get('abdulkareem'))\n",
        "print(marks.get('abdulkareem','Not find student'))"
      ],
      "metadata": {
        "colab": {
          "base_uri": "https://localhost:8080/"
        },
        "id": "d6WheFdm1dxX",
        "outputId": "73bad89c-cfb9-417b-c278-4ce1831a9623"
      },
      "execution_count": null,
      "outputs": [
        {
          "output_type": "stream",
          "name": "stdout",
          "text": [
            "None\n",
            "Not find student\n"
          ]
        }
      ]
    },
    {
      "cell_type": "markdown",
      "source": [
        "## **Edit values**"
      ],
      "metadata": {
        "id": "sTLMxuqm12Q6"
      }
    },
    {
      "cell_type": "code",
      "source": [
        "gpa"
      ],
      "metadata": {
        "colab": {
          "base_uri": "https://localhost:8080/"
        },
        "id": "i_o5YBTX2FLM",
        "outputId": "2f92be8d-4925-42df-dc84-04fdd5f8fe4a"
      },
      "execution_count": null,
      "outputs": [
        {
          "output_type": "execute_result",
          "data": {
            "text/plain": [
              "{'Ali': 2.75, 'Saeed': 3.5}"
            ]
          },
          "metadata": {},
          "execution_count": 11
        }
      ]
    },
    {
      "cell_type": "code",
      "source": [
        "gpa['ans']=4"
      ],
      "metadata": {
        "id": "NsHHfnbg1-pb"
      },
      "execution_count": null,
      "outputs": []
    },
    {
      "cell_type": "code",
      "source": [
        "gpa['rami']=3.57 # رامي ماهو موجود فبيسويه ويعطيه القيمة"
      ],
      "metadata": {
        "id": "6rrCInZk2Bjo"
      },
      "execution_count": null,
      "outputs": []
    },
    {
      "cell_type": "code",
      "source": [
        "gpa"
      ],
      "metadata": {
        "colab": {
          "base_uri": "https://localhost:8080/"
        },
        "id": "0LXyd7Yc2HhG",
        "outputId": "88b2df82-5e41-47c4-c87b-5ed27ca0b772"
      },
      "execution_count": null,
      "outputs": [
        {
          "output_type": "execute_result",
          "data": {
            "text/plain": [
              "{'Ali': 2.75, 'Saeed': 3.5, 'ans': 4, 'rami': 3.57}"
            ]
          },
          "metadata": {},
          "execution_count": 15
        }
      ]
    },
    {
      "cell_type": "markdown",
      "source": [
        "## **Remove**"
      ],
      "metadata": {
        "id": "CztcXKqY1Jgo"
      }
    },
    {
      "cell_type": "markdown",
      "source": [
        "### useing pop"
      ],
      "metadata": {
        "id": "OyN-aq8q2qmJ"
      }
    },
    {
      "cell_type": "code",
      "source": [
        "gpa.pop('Saeed')"
      ],
      "metadata": {
        "colab": {
          "base_uri": "https://localhost:8080/"
        },
        "id": "9GUOoQTa2fUK",
        "outputId": "14244890-358b-4e8e-8e2e-bf32ef5c88dc"
      },
      "execution_count": null,
      "outputs": [
        {
          "output_type": "execute_result",
          "data": {
            "text/plain": [
              "3.5"
            ]
          },
          "metadata": {},
          "execution_count": 16
        }
      ]
    },
    {
      "cell_type": "code",
      "source": [
        "gpa"
      ],
      "metadata": {
        "colab": {
          "base_uri": "https://localhost:8080/"
        },
        "id": "0mG1HpTv2kQW",
        "outputId": "3f669dc4-e6a4-4294-bba0-67ed33c09951"
      },
      "execution_count": null,
      "outputs": [
        {
          "output_type": "execute_result",
          "data": {
            "text/plain": [
              "{'Ali': 2.75, 'ans': 4, 'rami': 3.57}"
            ]
          },
          "metadata": {},
          "execution_count": 17
        }
      ]
    },
    {
      "cell_type": "markdown",
      "source": [
        "### using remove"
      ],
      "metadata": {
        "id": "qdQz3UKO2tDV"
      }
    },
    {
      "cell_type": "code",
      "source": [
        "del gpa['Ali']"
      ],
      "metadata": {
        "id": "5pXnpqk02qCH"
      },
      "execution_count": null,
      "outputs": []
    },
    {
      "cell_type": "code",
      "source": [
        "gpa"
      ],
      "metadata": {
        "colab": {
          "base_uri": "https://localhost:8080/"
        },
        "id": "zLl4xioQ20pf",
        "outputId": "ebd030cd-35da-4fb5-ecc0-5fb7b6345f24"
      },
      "execution_count": null,
      "outputs": [
        {
          "output_type": "execute_result",
          "data": {
            "text/plain": [
              "{'ans': 4, 'rami': 3.57}"
            ]
          },
          "metadata": {},
          "execution_count": 19
        }
      ]
    },
    {
      "cell_type": "markdown",
      "source": [
        "## **Loop**"
      ],
      "metadata": {
        "id": "8cTAqMkE3LUg"
      }
    },
    {
      "cell_type": "markdown",
      "source": [
        "### for keys"
      ],
      "metadata": {
        "id": "8jblC7gx3kAx"
      }
    },
    {
      "cell_type": "code",
      "source": [
        "# بيلف على المفاتيح بس ما بيشوف القيم\n",
        "for key in gpa:\n",
        "    print(key,gpa[key])"
      ],
      "metadata": {
        "colab": {
          "base_uri": "https://localhost:8080/"
        },
        "id": "Lq2ngNFf3O6z",
        "outputId": "37659d58-e276-4dd7-f391-53999b286e48"
      },
      "execution_count": null,
      "outputs": [
        {
          "output_type": "stream",
          "name": "stdout",
          "text": [
            "ans 4\n",
            "rami 3.57\n"
          ]
        }
      ]
    },
    {
      "cell_type": "markdown",
      "source": [
        "### for values"
      ],
      "metadata": {
        "id": "gXqO1yI03oUf"
      }
    },
    {
      "cell_type": "code",
      "source": [
        "for value in gpa.values():\n",
        "    print(value)"
      ],
      "metadata": {
        "colab": {
          "base_uri": "https://localhost:8080/"
        },
        "id": "8XU1vogc3jEA",
        "outputId": "e589981d-915c-475b-a3fc-77c3362ba68d"
      },
      "execution_count": null,
      "outputs": [
        {
          "output_type": "stream",
          "name": "stdout",
          "text": [
            "4\n",
            "3.57\n"
          ]
        }
      ]
    },
    {
      "cell_type": "markdown",
      "source": [
        "for item (key & value)"
      ],
      "metadata": {
        "id": "lCJ1pj-s3woZ"
      }
    },
    {
      "cell_type": "code",
      "source": [
        "for key,value in gpa.items():\n",
        "    print(key,value)"
      ],
      "metadata": {
        "colab": {
          "base_uri": "https://localhost:8080/"
        },
        "id": "QY04gDXt317P",
        "outputId": "b51f51ff-b4b7-4b9d-91ca-dbd67582d85a"
      },
      "execution_count": null,
      "outputs": [
        {
          "output_type": "stream",
          "name": "stdout",
          "text": [
            "ans 4\n",
            "rami 3.57\n"
          ]
        }
      ]
    },
    {
      "cell_type": "markdown",
      "source": [
        "## **Nested Dictionary**"
      ],
      "metadata": {
        "id": "rjNgmHXz4Fu8"
      }
    },
    {
      "cell_type": "code",
      "source": [
        "gpa={'Ali':{'BSc':4,'MSc':3.8},'Saeed':3.5,'Ans':2.75}"
      ],
      "metadata": {
        "id": "v-VqkeuL4KrK"
      },
      "execution_count": null,
      "outputs": []
    },
    {
      "cell_type": "code",
      "source": [
        "print(gpa['Ali'])\n",
        "print(gpa['Ali']['BSc'])"
      ],
      "metadata": {
        "colab": {
          "base_uri": "https://localhost:8080/"
        },
        "id": "zZrLbXx-4Ycj",
        "outputId": "3cb2547d-d682-421a-ae03-6f1cebd7c10d"
      },
      "execution_count": null,
      "outputs": [
        {
          "output_type": "stream",
          "name": "stdout",
          "text": [
            "{'BSc': 4, 'MSc': 3.8}\n",
            "4\n"
          ]
        }
      ]
    }
  ]
}