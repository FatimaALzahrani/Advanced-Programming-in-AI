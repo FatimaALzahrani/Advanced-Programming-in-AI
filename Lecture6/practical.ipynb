{
  "nbformat": 4,
  "nbformat_minor": 0,
  "metadata": {
    "colab": {
      "provenance": []
    },
    "kernelspec": {
      "name": "python3",
      "display_name": "Python 3"
    },
    "language_info": {
      "name": "python"
    }
  },
  "cells": [
    {
      "cell_type": "markdown",
      "source": [
        "## **Read vs ReadLine vs ReadLines**"
      ],
      "metadata": {
        "id": "Va3gz4wwfff-"
      }
    },
    {
      "cell_type": "markdown",
      "source": [
        "### ReadLine"
      ],
      "metadata": {
        "id": "CPr-5DKwfoYo"
      }
    },
    {
      "cell_type": "code",
      "execution_count": 37,
      "metadata": {
        "colab": {
          "base_uri": "https://localhost:8080/"
        },
        "id": "91ES37Ffd-9m",
        "outputId": "43afa15f-35a7-41be-e123-4f64d3efcf71"
      },
      "outputs": [
        {
          "output_type": "stream",
          "name": "stdout",
          "text": [
            "Hello \n",
            "\n"
          ]
        }
      ],
      "source": [
        "file = open('/content/hello.txt','r')\n",
        "print(file.readline())"
      ]
    },
    {
      "cell_type": "markdown",
      "source": [
        "### ReadLines"
      ],
      "metadata": {
        "id": "pzfl-yqIgyCU"
      }
    },
    {
      "cell_type": "code",
      "source": [
        "file_list = file.readlines()\n",
        "print(file_list[0])"
      ],
      "metadata": {
        "colab": {
          "base_uri": "https://localhost:8080/"
        },
        "id": "HN8HCTrmgqGi",
        "outputId": "bbd61474-0abb-4f09-aa37-8c889b6bbcfc"
      },
      "execution_count": 15,
      "outputs": [
        {
          "output_type": "stream",
          "name": "stdout",
          "text": [
            "Fatimah\n",
            "\n"
          ]
        }
      ]
    },
    {
      "cell_type": "markdown",
      "source": [
        "لأن البوينتر عند السطر الثاني بسبب الخلية اللي قبل طبعت اول سطر"
      ],
      "metadata": {
        "id": "-sfb9N5egdKL"
      }
    },
    {
      "cell_type": "markdown",
      "source": [
        "### Read"
      ],
      "metadata": {
        "id": "xoOlNxcifuID"
      }
    },
    {
      "cell_type": "code",
      "source": [
        "print(file.read())"
      ],
      "metadata": {
        "colab": {
          "base_uri": "https://localhost:8080/"
        },
        "id": "RM3Ax_BGfsei",
        "outputId": "6c0273e7-ccd9-41e6-e7fe-8aef8450a275"
      },
      "execution_count": 16,
      "outputs": [
        {
          "output_type": "stream",
          "name": "stdout",
          "text": [
            "\n"
          ]
        }
      ]
    },
    {
      "cell_type": "markdown",
      "source": [
        "## **with**"
      ],
      "metadata": {
        "id": "HBPlDkhugQZz"
      }
    },
    {
      "cell_type": "markdown",
      "source": [
        "### Write & Read"
      ],
      "metadata": {
        "id": "ocWQD-V0i_N5"
      }
    },
    {
      "cell_type": "markdown",
      "source": [
        "بتقفل الملف من نفسها اذا خلصت الاشياء اللي جوتها"
      ],
      "metadata": {
        "id": "Wk-JuUV5hzqX"
      }
    },
    {
      "cell_type": "code",
      "source": [
        "with open('/content/hello.txt','w+') as file:# w+ يعني يقرا ويكتب\n",
        "  file.write('Welcome Pythonistas')\n",
        "  print(file.read())# بيطبع ولا شي لان البوينتر في الأخير"
      ],
      "metadata": {
        "colab": {
          "base_uri": "https://localhost:8080/"
        },
        "id": "OTk6bcu7huvf",
        "outputId": "784d3706-48fd-4d31-ee14-430c6ccf54a6"
      },
      "execution_count": 20,
      "outputs": [
        {
          "output_type": "stream",
          "name": "stdout",
          "text": [
            "\n"
          ]
        }
      ]
    },
    {
      "cell_type": "markdown",
      "source": [
        "عشان نحل المشكلة اللي قبل بنروح نصفر البوينتر"
      ],
      "metadata": {
        "id": "X9vdE8Hcir-V"
      }
    },
    {
      "cell_type": "code",
      "source": [
        "with open('/content/hello.txt','w+') as file:\n",
        "  file.write('Welcome Pythonistas')\n",
        "  file.seek(0)\n",
        "  print(file.read())"
      ],
      "metadata": {
        "colab": {
          "base_uri": "https://localhost:8080/"
        },
        "id": "cfhj2KH1iytV",
        "outputId": "0836e8c6-2b9d-47a7-a504-6f0b0338159e"
      },
      "execution_count": 21,
      "outputs": [
        {
          "output_type": "stream",
          "name": "stdout",
          "text": [
            "Welcome Pythonistas\n"
          ]
        }
      ]
    },
    {
      "cell_type": "markdown",
      "source": [
        "### Write"
      ],
      "metadata": {
        "id": "YD00ynSAjD5q"
      }
    },
    {
      "cell_type": "code",
      "source": [
        "with open('/content/hello.txt','w') as file:\n",
        "  file.write('Welcome Pythonistas :)')"
      ],
      "metadata": {
        "id": "L9ujwPSejIIx"
      },
      "execution_count": 22,
      "outputs": []
    },
    {
      "cell_type": "markdown",
      "source": [
        "### Read"
      ],
      "metadata": {
        "id": "gpSmUN6NjJQv"
      }
    },
    {
      "cell_type": "code",
      "source": [
        "with open('/content/hello.txt','r') as file:\n",
        "  print(file.read())"
      ],
      "metadata": {
        "colab": {
          "base_uri": "https://localhost:8080/"
        },
        "id": "7kHS3XwQjK9D",
        "outputId": "22a3f29e-0f06-47a0-f7d1-129e5fecdc23"
      },
      "execution_count": 23,
      "outputs": [
        {
          "output_type": "stream",
          "name": "stdout",
          "text": [
            "Welcome Pythonistas :)\n"
          ]
        }
      ]
    },
    {
      "cell_type": "markdown",
      "source": [
        "### writelines"
      ],
      "metadata": {
        "id": "iZYNtfZAjUc8"
      }
    },
    {
      "cell_type": "markdown",
      "source": [
        "بياخذ القائمة ويخزنها ونشوت على طول بالملف"
      ],
      "metadata": {
        "id": "9Ev31I9ZlL5N"
      }
    },
    {
      "cell_type": "code",
      "source": [
        "gpas=[4,3,2.5]\n",
        "with open('gpas.txt','w') as file_list:\n",
        "  # file_list.writelines(str(gpas))\n",
        "    for gpa in gpas:\n",
        "        file_list.writelines(str(gpa)+'\\n')"
      ],
      "metadata": {
        "id": "5cXksKHtjVUv"
      },
      "execution_count": 25,
      "outputs": []
    },
    {
      "cell_type": "code",
      "source": [
        "with open('/content/gpas.txt','r') as file:\n",
        "  file.seek(0)\n",
        "  print(file.read())"
      ],
      "metadata": {
        "colab": {
          "base_uri": "https://localhost:8080/"
        },
        "id": "fVwiYMLhj-_V",
        "outputId": "b4dead32-0852-477b-fe1c-fd06341a56c6"
      },
      "execution_count": 27,
      "outputs": [
        {
          "output_type": "stream",
          "name": "stdout",
          "text": [
            "4\n",
            "3\n",
            "2.5\n",
            "\n"
          ]
        }
      ]
    },
    {
      "cell_type": "code",
      "source": [
        "with open('/content/gpas.txt','a+') as file:\n",
        "  file.writelines('3.5')\n",
        "  file.seek(0)\n",
        "  print(file.read())"
      ],
      "metadata": {
        "colab": {
          "base_uri": "https://localhost:8080/"
        },
        "id": "J0Vk5uxelmC4",
        "outputId": "6e03cecb-417e-4929-8706-d4450d1e7141"
      },
      "execution_count": 31,
      "outputs": [
        {
          "output_type": "stream",
          "name": "stdout",
          "text": [
            "4\n",
            "3\n",
            "2.5\n",
            "3.53.5\n"
          ]
        }
      ]
    },
    {
      "cell_type": "markdown",
      "source": [
        "## **type**"
      ],
      "metadata": {
        "id": "MJcBJjOHnHlG"
      }
    },
    {
      "cell_type": "code",
      "source": [
        "print(type(file))"
      ],
      "metadata": {
        "colab": {
          "base_uri": "https://localhost:8080/"
        },
        "id": "UcfQ7wOvnKrm",
        "outputId": "339c118a-4736-42af-e0ff-b34c15f37459"
      },
      "execution_count": 32,
      "outputs": [
        {
          "output_type": "stream",
          "name": "stdout",
          "text": [
            "<class '_io.TextIOWrapper'>\n"
          ]
        }
      ]
    },
    {
      "cell_type": "code",
      "source": [
        "print(type(file.read()))"
      ],
      "metadata": {
        "colab": {
          "base_uri": "https://localhost:8080/"
        },
        "id": "SnIUnVxnnO6V",
        "outputId": "fd40da6a-6883-4d24-881f-57018f27c423"
      },
      "execution_count": 35,
      "outputs": [
        {
          "output_type": "stream",
          "name": "stdout",
          "text": [
            "<class 'str'>\n"
          ]
        }
      ]
    }
  ]
}